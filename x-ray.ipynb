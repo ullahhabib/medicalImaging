{
 "cells": [
  {
   "cell_type": "markdown",
   "metadata": {
    "nbpresent": {
     "id": "0c3c2a94-f295-4557-8efa-1d8ef5c5a190"
    },
    "slideshow": {
     "slide_type": "slide"
    }
   },
   "source": [
    "# COSC 4372 Fundamentals of Medical Imaging\n"
   ]
  },
  {
   "cell_type": "markdown",
   "metadata": {
    "slideshow": {
     "slide_type": "slide"
    }
   },
   "source": [
    "## A virtual 1-Dimensional (1D) digital X-ray machine (Version 1.0)"
   ]
  },
  {
   "cell_type": "markdown",
   "metadata": {
    "nbpresent": {
     "id": "d508867b-4b8e-4967-a1a0-ad8e00384450"
    },
    "slideshow": {
     "slide_type": "fragment"
    }
   },
   "source": [
    "We will make certain assumptions that simplify the scanner:\n",
    "\n",
    "1) X-ray are parallel\n",
    "\n",
    "2) The virtual human (the phantom) and any structure inside are composed of made of “wedges and parallelograms”. The “human phantom\" will be a trapezoid.\n",
    "\n",
    "3) We will assume that we do not have any scattered rays."
   ]
  },
  {
   "cell_type": "markdown",
   "metadata": {
    "nbpresent": {
     "id": "f99aadab-a56f-4a1e-9d2d-2f1206d017d2"
    },
    "slideshow": {
     "slide_type": "fragment"
    }
   },
   "source": [
    "### It is up to us to decide the resolution of the machine and the resolution of the virtual human."
   ]
  },
  {
   "cell_type": "markdown",
   "metadata": {
    "nbpresent": {
     "id": "1782c40a-fd5e-456b-a8ec-34d891a4efd6"
    },
    "slideshow": {
     "slide_type": "slide"
    }
   },
   "source": [
    "## Input:\n",
    "1) the specific shape of the virtual human and the layers of the body with different attenuation coefficients ($\\mu $). You can use $\\mu $ values either from the literature or your own set.\n",
    "\n",
    "2) Resolution of the 1D image: what feature will determine it? "
   ]
  },
  {
   "cell_type": "markdown",
   "metadata": {
    "nbpresent": {
     "id": "3c82b57d-4a7f-4f46-8c8e-874ed74ea585"
    },
    "slideshow": {
     "slide_type": "fragment"
    }
   },
   "source": [
    "## Output:\n",
    "The 1D profile of the signal intensity of the xrays after they go thorugh the virtual human."
   ]
  },
  {
   "cell_type": "markdown",
   "metadata": {
    "nbpresent": {
     "id": "dcc20c5e-8441-4eae-a312-7d9c482f135f"
    },
    "slideshow": {
     "slide_type": "slide"
    }
   },
   "source": [
    "## Let's see some code.."
   ]
  },
  {
   "cell_type": "code",
   "execution_count": 1,
   "metadata": {
    "nbpresent": {
     "id": "3cbba721-70c8-4345-8d33-dfca5f9b8af9"
    },
    "slideshow": {
     "slide_type": "slide"
    }
   },
   "outputs": [],
   "source": [
    "# Import libraries\n",
    "import numpy as np\n",
    "import cv2\n",
    "import matplotlib.pyplot as plt"
   ]
  },
  {
   "cell_type": "code",
   "execution_count": 2,
   "metadata": {
    "nbpresent": {
     "id": "02d8777a-75e4-4f2b-aa54-56a53dba03d7"
    },
    "slideshow": {
     "slide_type": "slide"
    }
   },
   "outputs": [],
   "source": [
    "# Generate Phantom and Display\n",
    "        # Parameters:\n",
    "        # (x,y) resolution\n",
    "        # Length (real world)\n",
    "        # attenuation values\n",
    "def generate_phantom (x,y,length,attenuations):\n",
    "\n",
    "    # Create phantom matrix, U matrix, L matrix\n",
    "    phantom = np.zeros((y,x), np.uint8) # phantom image\n",
    "    U = np.zeros((y,x), np.float32) # attenuation matrix\n",
    "    L = np.ones((y,x), np.float32) # length matrix\n",
    "    L = L * length / x # how many cm per pixel\n",
    "\n",
    "\n",
    "    # Phantom will have 4 structures\n",
    "    #structure1 represents virtual human body\n",
    "    #structure2 represents top part of the organ\n",
    "    #structure3 represents middle part of the organ\n",
    "    #structure4 represents bottom part of the organ\n",
    "    \n",
    "    struct_1 = np.zeros((y, x), np.float32)\n",
    "    struct_2 = np.zeros((y, x), np.float32)\n",
    "    struct_3 = np.zeros((y, x), np.float32)\n",
    "    struct_4 = np.zeros((y,x), np.float32)\n",
    "   \n",
    "    #Rectangle (Human Body)\n",
    "    struct_1[int(y*0.1):int(y*0.9),int(x*0.15):int(x*0.9)] = 20\n",
    "   \n",
    "    #-----------------------------------------------------\n",
    "    #-------------Organ Structure------------------------\n",
    "    #top side of rectangle\n",
    "    a = 1\n",
    "    for i in range(int(y * 0.4), int(y * 0.2), -1):\n",
    "        struct_2[i][int(x * 0.4):int(x * 0.6) - a] = 100\n",
    "        a = a + 1    \n",
    "    #middle square\n",
    "    struct_3[int(y * 0.4):int(y * 0.6), int(x * 0.4):int(x * 0.6)] = 100\n",
    "    \n",
    "    #botton part\n",
    "    b = 1\n",
    "    for i in range(int(y * 0.6), int(y * 0.8)):\n",
    "        struct_4[i][int(x * 0.4):int(x * 0.6) - b] = 100\n",
    "        b = b + 1\n",
    "    #----------------------------------------------------------\n",
    "\n",
    "    # Add the structures to the phantom\n",
    "    phantom += struct_1.astype(np.uint8) + struct_2.astype(np.uint8) + struct_3.astype(np.uint8)+ struct_4.astype(np.uint8) \n",
    "  \n",
    "    # Write a phantom\n",
    "    cv2.imwrite(\"phantom.jpg\", phantom)\n",
    "\n",
    "    # Add structure attenuations to U matrix\n",
    "    U += struct_1 * attenuations[0] + struct_2 * attenuations[1] + struct_3 * attenuations[2] + struct_4 * attenuations[3]\n",
    "#     print(L)\n",
    "#     print(phantom)\n",
    "    return phantom, U, L\n",
    "    #To rotate the image we will use the bottom code\n",
    "    #imagerotation = ndimage.rotate(phantom, 180)\n",
    "    #return imagerotation,U,L\n"
   ]
  },
  {
   "cell_type": "code",
   "execution_count": 3,
   "metadata": {},
   "outputs": [
    {
     "data": {
      "text/plain": [
       "array([0.5, 1. , 1.5])"
      ]
     },
     "execution_count": 3,
     "metadata": {},
     "output_type": "execute_result"
    }
   ],
   "source": [
    "tmp = np.array([[0,1,2],[1,1,1]])\n",
    "tmp\n",
    "np.mean(tmp, axis=0)"
   ]
  },
  {
   "cell_type": "code",
   "execution_count": 4,
   "metadata": {
    "nbpresent": {
     "id": "afaf38fb-d437-45ad-9b05-d1f0b93ce975"
    },
    "slideshow": {
     "slide_type": "slide"
    }
   },
   "outputs": [],
   "source": [
    "# Create a virtual Sensor, get signal intensities\n",
    "    # Parameters:\n",
    "        # Resolution (y)\n",
    "        # Beam intensity (i_0)\n",
    "def run_x_ray(sensor_resolution, i_0, U, L):\n",
    "    # Get Intensities\n",
    "    x_ray = compute_signal_intensity(i_0, U, L)\n",
    "    \n",
    "    # map to sensor resolution\n",
    "    print(x_ray.shape)\n",
    "    x_ray = x_ray.reshape(sensor_resolution, U.shape[0]//sensor_resolution)\n",
    "    print(x_ray.shape)\n",
    "    x_ray = np.mean(x_ray, axis=1)\n",
    "    print(x_ray.shape)\n",
    "    return x_ray"
   ]
  },
  {
   "cell_type": "markdown",
   "metadata": {
    "nbpresent": {
     "id": "3de058a5-8fe2-4c00-8ac4-37e2ca7fbb39"
    },
    "slideshow": {
     "slide_type": "slide"
    }
   },
   "source": [
    "## Where the magic happens:\n",
    "\n",
    "<img src=\"x_ray_machine.png\">\n",
    "<img src=\"eq1.png\">"
   ]
  },
  {
   "cell_type": "markdown",
   "metadata": {
    "slideshow": {
     "slide_type": "slide"
    }
   },
   "source": [
    "<img src=\"x_ray_machine2.png\">\n",
    "<img src=\"eq2.png\">"
   ]
  },
  {
   "cell_type": "markdown",
   "metadata": {
    "nbpresent": {
     "id": "40672939-2c81-44e9-8cf2-892208569aa5"
    },
    "slideshow": {
     "slide_type": "slide"
    }
   },
   "source": [
    "## From here we find that the intensity is given by:\n",
    "\n",
    "$$I = I_{o} * \\prod_{i=1}^{\\# layers} e^{(-\\mu_{i}*l_{i})}$$\n",
    "For each row/ray.\n",
    "Where $I_{o}$ is the initial beam intensity, $\\mu_{i}$ is the attenuation factor for that layer and $l_{i}$ is the length of that layer."
   ]
  },
  {
   "cell_type": "markdown",
   "metadata": {
    "nbpresent": {
     "id": "2799a47a-54df-46fd-994f-f5d5390e7cc5"
    },
    "slideshow": {
     "slide_type": "slide"
    }
   },
   "source": [
    "## Pseudocode\n",
    "\n",
    "intensities = array(size of rows)\n",
    "\n",
    "For row j in phantom:\n",
    "\n",
    "    acumulator = 1\n",
    "    \n",
    "    for layer i in row j:\n",
    "    \n",
    "        acumulator *= e^(-u(i)*l(i)\n",
    "        \n",
    "    done   \n",
    "    \n",
    "    intensities(j) = initial_intensity * acumulator\n",
    "    \n",
    "done\n",
    "    "
   ]
  },
  {
   "cell_type": "code",
   "execution_count": 5,
   "metadata": {
    "nbpresent": {
     "id": "d6fb1bd1-0865-45a3-a8e9-4aaf431cde4d"
    },
    "slideshow": {
     "slide_type": "slide"
    }
   },
   "outputs": [],
   "source": [
    "# Compute the instensity across all layers (using matrix multiplication)\n",
    "def compute_signal_intensity(i_0, U, L):\n",
    "    return i_0 * np.prod(np.exp(-1 * np.multiply(U,L)), axis=1)"
   ]
  },
  {
   "cell_type": "code",
   "execution_count": 6,
   "metadata": {
    "nbpresent": {
     "id": "ab7e75e2-3d2c-4493-8f19-3d67dc1451a4"
    },
    "slideshow": {
     "slide_type": "slide"
    }
   },
   "outputs": [],
   "source": [
    "# Show the signal profile\n",
    "    # Parameter:\n",
    "        # x_ray - array of signal intensities\n",
    "def show_graphs(x_ray):\n",
    "    plt.figure(1)\n",
    "    plt.title(\"Intensity Points\")\n",
    "    plt.plot(x_ray, 'ro')\n",
    "    plt.figure(2)\n",
    "    plt.title(\"Intensity Graph\")\n",
    "    plt.plot(x_ray)\n",
    "    plt.figure(3)\n",
    "    plt.title(\"Intensity Merged\")\n",
    "    plt.plot(x_ray, 'ro')\n",
    "    plt.plot(x_ray)\n",
    "    plt.ylabel('Signal Intensity')\n",
    "    plt.show()"
   ]
  },
  {
   "cell_type": "code",
   "execution_count": 7,
   "metadata": {
    "nbpresent": {
     "id": "84fe95e2-4690-48ec-8ac7-3588666273fb"
    },
    "slideshow": {
     "slide_type": "slide"
    }
   },
   "outputs": [
    {
     "name": "stdout",
     "output_type": "stream",
     "text": [
      "(512,)\n",
      "(16, 32)\n",
      "(16,)\n"
     ]
    },
    {
     "data": {
      "image/png": "[encoded data removed]",
      "text/plain": [
       "<Figure size 432x288 with 1 Axes>"
      ]
     },
     "metadata": {
      "needs_background": "light"
     },
     "output_type": "display_data"
    }
   ],
   "source": [
    "# Phantom Parameters\n",
    "x = 512 # pixels\n",
    "y = 512 # pixels\n",
    "length = 10 # cm\n",
    "attenuations = [0.2, 0.8, 0.1, 0.5] # factor (0-1)\n",
    "\n",
    "# Get phantom and matrices\n",
    "phantom, U, L = generate_phantom(x,y,length,attenuations)\n",
    "\n",
    "# Display phantom\n",
    "%matplotlib inline\n",
    "plt.figure(0)\n",
    "plt.title(\"Phantom\")\n",
    "plt.imshow(phantom)\n",
    "\n",
    "# X-Ray parameters\n",
    "sensor_resolution = 16  # Must be a factor of image size\n",
    "i_0 = 40  # keV\n",
    "\n",
    "# Compute x_ray\n",
    "x_ray = run_x_ray(sensor_resolution, i_0, U, L)\n",
    "    "
   ]
  },
  {
   "cell_type": "code",
   "execution_count": 8,
   "metadata": {
    "nbpresent": {
     "id": "67b0670c-129d-4bd6-9cfb-3ffb23d93dbe"
    },
    "slideshow": {
     "slide_type": "slide"
    }
   },
   "outputs": [
    {
     "data": {
      "image/png": "[encoded data removed]",
      "text/plain": [
       "<Figure size 432x288 with 1 Axes>"
      ]
     },
     "metadata": {
      "needs_background": "light"
     },
     "output_type": "display_data"
    },
    {
     "data": {
      "image/png": "[encoded data removed]",
      "text/plain": [
       "<Figure size 432x288 with 1 Axes>"
      ]
     },
     "metadata": {
      "needs_background": "light"
     },
     "output_type": "display_data"
    },
    {
     "data": {
      "image/png": "[encoded data removed]",
      "text/plain": [
       "<Figure size 432x288 with 1 Axes>"
      ]
     },
     "metadata": {
      "needs_background": "light"
     },
     "output_type": "display_data"
    }
   ],
   "source": [
    "# Display graphs\n",
    "show_graphs(x_ray)"
   ]
  },
  {
   "cell_type": "code",
   "execution_count": null,
   "metadata": {},
   "outputs": [],
   "source": []
  }
 ],
 "metadata": {
  "kernelspec": {
   "display_name": "Python 3",
   "language": "python",
   "name": "python3"
  },
  "language_info": {
   "codemirror_mode": {
    "name": "ipython",
    "version": 3
   },
   "file_extension": ".py",
   "mimetype": "text/x-python",
   "name": "python",
   "nbconvert_exporter": "python",
   "pygments_lexer": "ipython3",
   "version": "3.7.4"
  },
  "nbpresent": {
   "slides": {},
   "themes": {}
  }
 },
 "nbformat": 4,
 "nbformat_minor": 2
}
