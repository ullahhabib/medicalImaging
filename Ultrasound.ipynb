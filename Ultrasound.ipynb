{
 "cells": [
  {
   "cell_type": "code",
   "execution_count": 1,
   "metadata": {
    "scrolled": true
   },
   "outputs": [],
   "source": [
    "# Import libraries\n",
    "import numpy as np\n",
    "import cv2\n",
    "import matplotlib.pyplot as plt\n",
    "import matplotlib as mpl"
   ]
  },
  {
   "cell_type": "code",
   "execution_count": 2,
   "metadata": {},
   "outputs": [],
   "source": [
    "# Generate Phantom and Display\n",
    "    # Parameters:\n",
    "        # (x,y) resolution\n",
    "        # Length (real world)\n",
    "        # attenuation values\n",
    "        # speed values\n",
    "def generate_phantom (x,y,length,attenuations, speeds):\n",
    "\n",
    "    # Create phantom matrix, U matrix, L matrix\n",
    "    phantom = np.zeros((y,x), np.uint8) # phantom image\n",
    "    U = np.zeros((y,x), np.float32) # attenuation matrix\n",
    "    S = np.zeros((y,x), np.float32) # speed matrix\n",
    "    L = np.ones((y,x), np.float32) # length matrix\n",
    "    L = L * length / x # how many cm per pixel\n",
    "\n",
    "\n",
    "    # Phantom will have 4 structures\n",
    "    # Structures will have relative positions\n",
    "    #Rectangle (Human Body)\n",
    "    \n",
    "    struct_1 = np.zeros((y, x), np.float32)\n",
    "    struct_2 = np.zeros((y, x), np.float32)\n",
    "    struct_3 = np.zeros((y, x), np.float32)\n",
    "    struct_4 = np.zeros((y,x), np.float32)\n",
    "    \n",
    "    #struct_1[int(y*0.1):int(y*0.9),int(x*0.15):int(x*0.9)] = 20\n",
    "    #-----------------------------------------------------\n",
    "    #-------------Organ Structure------------------------\n",
    "    #top side of rectangle\n",
    "    a = 1\n",
    "    for i in range(int(y * 0.4), int(y * 0.2), -1):\n",
    "        struct_2[i][int(x * 0.4):int(x * 0.6) - a] = 100\n",
    "        a = a + 1\n",
    "    \n",
    "    #middle square\n",
    "    struct_3[int(y * 0.4):int(y * 0.6), int(x * 0.4):int(x * 0.6)] = 100\n",
    "    \n",
    "    #botton part\n",
    "    b = 1\n",
    "    for i in range(int(y * 0.6), int(y * 0.8)):\n",
    "        struct_4[i][int(x * 0.4):int(x * 0.6) - b] = 100\n",
    "        b = b + 1\n",
    "    #----------------------------------------------------------\n",
    "\n",
    "    # Add the structures to the phantom\n",
    "    phantom += struct_1.astype(np.uint8) + struct_2.astype(np.uint8) + struct_3.astype(np.uint8) + struct_4.astype(np.uint8)\n",
    "    phantom *= 255\n",
    "\n",
    "    # Write a phantom\n",
    "    cv2.imwrite(\"phantom.jpg\", phantom)\n",
    "\n",
    "    # Add structure attenuations to U matrix\n",
    "    U += struct_1 * attenuations[0] + struct_2 * attenuations[0] + struct_3 * attenuations[0] + struct_4 * attenuations[0]\n",
    "    U[np.where(U == 0)] = attenuations[1]\n",
    "    \n",
    "    # Add structure speeds to S matrix\n",
    "    S += struct_1 * speeds[0] + struct_2 * speeds[0] + struct_3 * speeds[0] + struct_4 * speeds[0]\n",
    "    S[np.where(S == 0)] = speeds[1]\n",
    "\n",
    "    return phantom, U, S, L"
   ]
  },
  {
   "cell_type": "code",
   "execution_count": null,
   "metadata": {},
   "outputs": [],
   "source": [
    "\n"
   ]
  },
  {
   "cell_type": "code",
   "execution_count": 3,
   "metadata": {},
   "outputs": [],
   "source": [
    "# Create a virtual Sensor\n",
    "def run_ultrasound(sensor_resolution,i_0, U, S, L):\n",
    "    # Get Intensities\n",
    "    us = compute_echoes(i_0, U, S, L)\n",
    "    us = us/ np.amax(us)\n",
    "    print(us)\n",
    "    #map to sensor resolution\n",
    "    return us"
   ]
  },
  {
   "cell_type": "code",
   "execution_count": 4,
   "metadata": {},
   "outputs": [],
   "source": [
    "# Compute the echoes from the ultrasound\n",
    "def compute_echoes(i_0,U, S, L):\n",
    "    echoes = np.zeros(U.shape)  \n",
    "    for i in range(U.shape[0]):\n",
    "        for j in range(U.shape[1] -2):\n",
    "              echoes[i,j] = S[i,j]* np.exp(-0.3* U[i,j]*L[i,j]*j)\n",
    "    return echoes"
   ]
  },
  {
   "cell_type": "code",
   "execution_count": 5,
   "metadata": {},
   "outputs": [],
   "source": [
    "# Show the ultrasound\n",
    "def save_ultrasound(us):\n",
    "    cv2.imwrite(\"ultrasound.jpg\", normalize_image(us))"
   ]
  },
  {
   "cell_type": "code",
   "execution_count": 6,
   "metadata": {},
   "outputs": [],
   "source": [
    "def normalize_image(us):\n",
    "    min_val = np.min(us)\n",
    "    max_val = np.max(us)\n",
    "    return (us - min_val)*(255/(max_val-min_val))"
   ]
  },
  {
   "cell_type": "code",
   "execution_count": 7,
   "metadata": {},
   "outputs": [
    {
     "name": "stdout",
     "output_type": "stream",
     "text": [
      "[[1.         0.99363363 0.9873078  ... 0.03874165 0.         0.        ]\n",
      " [1.         0.99363363 0.9873078  ... 0.03874165 0.         0.        ]\n",
      " [1.         0.99363363 0.9873078  ... 0.03874165 0.         0.        ]\n",
      " ...\n",
      " [1.         0.99363363 0.9873078  ... 0.03874165 0.         0.        ]\n",
      " [1.         0.99363363 0.9873078  ... 0.03874165 0.         0.        ]\n",
      " [1.         0.99363363 0.9873078  ... 0.03874165 0.         0.        ]]\n"
     ]
    },
    {
     "data": {
      "image/png": "[encoded data removed]",
      "text/plain": [
       "<Figure size 432x288 with 1 Axes>"
      ]
     },
     "metadata": {
      "needs_background": "light"
     },
     "output_type": "display_data"
    }
   ],
   "source": [
    "# Phantom Parameters\n",
    "x = 512 # pixels\n",
    "y = 512 # pixels\n",
    "length = 10 # cm\n",
    "\n",
    "attenuations = np.zeros(2)\n",
    "attenuations[0] = 0.48 ## fat\n",
    "attenuations[1] = 1.09 ## muscle\n",
    "\n",
    "## specific speed (m/sec)\n",
    "speeds = np.zeros(2)\n",
    "speeds[0] = 1460 ## fat\n",
    "speeds[1] = 1580 ## muscle\n",
    "\n",
    "# Get phantom and matrices\n",
    "phantom, U, S, L = generate_phantom(x,y,length,attenuations, speeds)\n",
    "\n",
    "#US parameters \n",
    "sensor_resolution = 16\n",
    "i_0 = 60\n",
    "\n",
    "# Display phantom\n",
    "%matplotlib inline\n",
    "\n",
    "plt.figure(0)\n",
    "plt.title(\"Phantom\")\n",
    "plt.imshow(phantom)\n",
    "\n",
    "# Compute ultrasound\n",
    "us = run_ultrasound(sensor_resolution, i_0, U, S, L)\n",
    "    "
   ]
  },
  {
   "cell_type": "code",
   "execution_count": 8,
   "metadata": {},
   "outputs": [],
   "source": [
    "# Display graphs\n",
    "save_ultrasound(us)"
   ]
  },
  {
   "cell_type": "code",
   "execution_count": null,
   "metadata": {},
   "outputs": [],
   "source": []
  },
  {
   "cell_type": "code",
   "execution_count": null,
   "metadata": {},
   "outputs": [],
   "source": []
  }
 ],
 "metadata": {
  "kernelspec": {
   "display_name": "Python 3",
   "language": "python",
   "name": "python3"
  },
  "language_info": {
   "codemirror_mode": {
    "name": "ipython",
    "version": 3
   },
   "file_extension": ".py",
   "mimetype": "text/x-python",
   "name": "python",
   "nbconvert_exporter": "python",
   "pygments_lexer": "ipython3",
   "version": "3.7.4"
  }
 },
 "nbformat": 4,
 "nbformat_minor": 2
}
